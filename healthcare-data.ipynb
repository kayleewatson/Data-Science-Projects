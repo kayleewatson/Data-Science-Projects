{
 "cells": [
  {
   "cell_type": "code",
   "execution_count": 1,
   "id": "91261731",
   "metadata": {
    "_cell_guid": "b1076dfc-b9ad-4769-8c92-a6c4dae69d19",
    "_uuid": "8f2839f25d086af736a60e9eeb907d3b93b6e0e5",
    "execution": {
     "iopub.execute_input": "2025-07-29T01:43:53.898522Z",
     "iopub.status.busy": "2025-07-29T01:43:53.898157Z",
     "iopub.status.idle": "2025-07-29T01:43:56.369479Z",
     "shell.execute_reply": "2025-07-29T01:43:56.368297Z"
    },
    "papermill": {
     "duration": 2.4795,
     "end_time": "2025-07-29T01:43:56.371730",
     "exception": false,
     "start_time": "2025-07-29T01:43:53.892230",
     "status": "completed"
    },
    "tags": []
   },
   "outputs": [
    {
     "name": "stdout",
     "output_type": "stream",
     "text": [
      "/kaggle/input/healthcare-dataset/healthcare_dataset.csv\n"
     ]
    }
   ],
   "source": [
    "import numpy as np\n",
    "import pandas as pd\n",
    "\n",
    "import os\n",
    "for dirname, _, filenames in os.walk('/kaggle/input'):\n",
    "    for filename in filenames:\n",
    "        print(os.path.join(dirname, filename))"
   ]
  },
  {
   "cell_type": "markdown",
   "id": "ca391c51",
   "metadata": {
    "papermill": {
     "duration": 0.003391,
     "end_time": "2025-07-29T01:43:56.379703",
     "exception": false,
     "start_time": "2025-07-29T01:43:56.376312",
     "status": "completed"
    },
    "tags": []
   },
   "source": [
    "## **Load the Data**\n",
    "\n",
    "Load the data and print information about the data, summary statistics, and the first few rows."
   ]
  },
  {
   "cell_type": "code",
   "execution_count": 2,
   "id": "61ac8b74",
   "metadata": {
    "execution": {
     "iopub.execute_input": "2025-07-29T01:43:56.388747Z",
     "iopub.status.busy": "2025-07-29T01:43:56.388228Z",
     "iopub.status.idle": "2025-07-29T01:43:56.896981Z",
     "shell.execute_reply": "2025-07-29T01:43:56.895554Z"
    },
    "papermill": {
     "duration": 0.516141,
     "end_time": "2025-07-29T01:43:56.899494",
     "exception": false,
     "start_time": "2025-07-29T01:43:56.383353",
     "status": "completed"
    },
    "tags": []
   },
   "outputs": [],
   "source": [
    "healthcare_file_path = \"/kaggle/input/healthcare-dataset/healthcare_dataset.csv\"\n",
    "\n",
    "# read in csv file with pandas\n",
    "health_data = pd.read_csv(healthcare_file_path)"
   ]
  },
  {
   "cell_type": "code",
   "execution_count": 3,
   "id": "5aec62ed",
   "metadata": {
    "execution": {
     "iopub.execute_input": "2025-07-29T01:43:56.909126Z",
     "iopub.status.busy": "2025-07-29T01:43:56.908694Z",
     "iopub.status.idle": "2025-07-29T01:43:56.990094Z",
     "shell.execute_reply": "2025-07-29T01:43:56.988866Z"
    },
    "papermill": {
     "duration": 0.088561,
     "end_time": "2025-07-29T01:43:56.992138",
     "exception": false,
     "start_time": "2025-07-29T01:43:56.903577",
     "status": "completed"
    },
    "tags": []
   },
   "outputs": [
    {
     "name": "stdout",
     "output_type": "stream",
     "text": [
      "<class 'pandas.core.frame.DataFrame'>\n",
      "RangeIndex: 55500 entries, 0 to 55499\n",
      "Data columns (total 15 columns):\n",
      " #   Column              Non-Null Count  Dtype  \n",
      "---  ------              --------------  -----  \n",
      " 0   Name                55500 non-null  object \n",
      " 1   Age                 55500 non-null  int64  \n",
      " 2   Gender              55500 non-null  object \n",
      " 3   Blood Type          55500 non-null  object \n",
      " 4   Medical Condition   55500 non-null  object \n",
      " 5   Date of Admission   55500 non-null  object \n",
      " 6   Doctor              55500 non-null  object \n",
      " 7   Hospital            55500 non-null  object \n",
      " 8   Insurance Provider  55500 non-null  object \n",
      " 9   Billing Amount      55500 non-null  float64\n",
      " 10  Room Number         55500 non-null  int64  \n",
      " 11  Admission Type      55500 non-null  object \n",
      " 12  Discharge Date      55500 non-null  object \n",
      " 13  Medication          55500 non-null  object \n",
      " 14  Test Results        55500 non-null  object \n",
      "dtypes: float64(1), int64(2), object(12)\n",
      "memory usage: 6.4+ MB\n"
     ]
    }
   ],
   "source": [
    "# print information about the dataframe\n",
    "health_data.info()\n",
    "\n",
    "# change column names to snake case\n",
    "health_data.columns = (health_data.columns.str.replace(' ','_').str.lower())"
   ]
  },
  {
   "cell_type": "code",
   "execution_count": 4,
   "id": "6595e69f",
   "metadata": {
    "execution": {
     "iopub.execute_input": "2025-07-29T01:43:57.002334Z",
     "iopub.status.busy": "2025-07-29T01:43:57.001718Z",
     "iopub.status.idle": "2025-07-29T01:43:57.036601Z",
     "shell.execute_reply": "2025-07-29T01:43:57.034893Z"
    },
    "papermill": {
     "duration": 0.043491,
     "end_time": "2025-07-29T01:43:57.040134",
     "exception": false,
     "start_time": "2025-07-29T01:43:56.996643",
     "status": "completed"
    },
    "tags": []
   },
   "outputs": [
    {
     "data": {
      "text/html": [
       "<div>\n",
       "<style scoped>\n",
       "    .dataframe tbody tr th:only-of-type {\n",
       "        vertical-align: middle;\n",
       "    }\n",
       "\n",
       "    .dataframe tbody tr th {\n",
       "        vertical-align: top;\n",
       "    }\n",
       "\n",
       "    .dataframe thead th {\n",
       "        text-align: right;\n",
       "    }\n",
       "</style>\n",
       "<table border=\"1\" class=\"dataframe\">\n",
       "  <thead>\n",
       "    <tr style=\"text-align: right;\">\n",
       "      <th></th>\n",
       "      <th>name</th>\n",
       "      <th>age</th>\n",
       "      <th>gender</th>\n",
       "      <th>blood_type</th>\n",
       "      <th>medical_condition</th>\n",
       "      <th>date_of_admission</th>\n",
       "      <th>doctor</th>\n",
       "      <th>hospital</th>\n",
       "      <th>insurance_provider</th>\n",
       "      <th>billing_amount</th>\n",
       "      <th>room_number</th>\n",
       "      <th>admission_type</th>\n",
       "      <th>discharge_date</th>\n",
       "      <th>medication</th>\n",
       "      <th>test_results</th>\n",
       "    </tr>\n",
       "  </thead>\n",
       "  <tbody>\n",
       "    <tr>\n",
       "      <th>0</th>\n",
       "      <td>Bobby JacksOn</td>\n",
       "      <td>30</td>\n",
       "      <td>Male</td>\n",
       "      <td>B-</td>\n",
       "      <td>Cancer</td>\n",
       "      <td>2024-01-31</td>\n",
       "      <td>Matthew Smith</td>\n",
       "      <td>Sons and Miller</td>\n",
       "      <td>Blue Cross</td>\n",
       "      <td>18856.281306</td>\n",
       "      <td>328</td>\n",
       "      <td>Urgent</td>\n",
       "      <td>2024-02-02</td>\n",
       "      <td>Paracetamol</td>\n",
       "      <td>Normal</td>\n",
       "    </tr>\n",
       "    <tr>\n",
       "      <th>1</th>\n",
       "      <td>LesLie TErRy</td>\n",
       "      <td>62</td>\n",
       "      <td>Male</td>\n",
       "      <td>A+</td>\n",
       "      <td>Obesity</td>\n",
       "      <td>2019-08-20</td>\n",
       "      <td>Samantha Davies</td>\n",
       "      <td>Kim Inc</td>\n",
       "      <td>Medicare</td>\n",
       "      <td>33643.327287</td>\n",
       "      <td>265</td>\n",
       "      <td>Emergency</td>\n",
       "      <td>2019-08-26</td>\n",
       "      <td>Ibuprofen</td>\n",
       "      <td>Inconclusive</td>\n",
       "    </tr>\n",
       "    <tr>\n",
       "      <th>2</th>\n",
       "      <td>DaNnY sMitH</td>\n",
       "      <td>76</td>\n",
       "      <td>Female</td>\n",
       "      <td>A-</td>\n",
       "      <td>Obesity</td>\n",
       "      <td>2022-09-22</td>\n",
       "      <td>Tiffany Mitchell</td>\n",
       "      <td>Cook PLC</td>\n",
       "      <td>Aetna</td>\n",
       "      <td>27955.096079</td>\n",
       "      <td>205</td>\n",
       "      <td>Emergency</td>\n",
       "      <td>2022-10-07</td>\n",
       "      <td>Aspirin</td>\n",
       "      <td>Normal</td>\n",
       "    </tr>\n",
       "    <tr>\n",
       "      <th>3</th>\n",
       "      <td>andrEw waTtS</td>\n",
       "      <td>28</td>\n",
       "      <td>Female</td>\n",
       "      <td>O+</td>\n",
       "      <td>Diabetes</td>\n",
       "      <td>2020-11-18</td>\n",
       "      <td>Kevin Wells</td>\n",
       "      <td>Hernandez Rogers and Vang,</td>\n",
       "      <td>Medicare</td>\n",
       "      <td>37909.782410</td>\n",
       "      <td>450</td>\n",
       "      <td>Elective</td>\n",
       "      <td>2020-12-18</td>\n",
       "      <td>Ibuprofen</td>\n",
       "      <td>Abnormal</td>\n",
       "    </tr>\n",
       "    <tr>\n",
       "      <th>4</th>\n",
       "      <td>adrIENNE bEll</td>\n",
       "      <td>43</td>\n",
       "      <td>Female</td>\n",
       "      <td>AB+</td>\n",
       "      <td>Cancer</td>\n",
       "      <td>2022-09-19</td>\n",
       "      <td>Kathleen Hanna</td>\n",
       "      <td>White-White</td>\n",
       "      <td>Aetna</td>\n",
       "      <td>14238.317814</td>\n",
       "      <td>458</td>\n",
       "      <td>Urgent</td>\n",
       "      <td>2022-10-09</td>\n",
       "      <td>Penicillin</td>\n",
       "      <td>Abnormal</td>\n",
       "    </tr>\n",
       "  </tbody>\n",
       "</table>\n",
       "</div>"
      ],
      "text/plain": [
       "            name  age  gender blood_type medical_condition date_of_admission  \\\n",
       "0  Bobby JacksOn   30    Male         B-            Cancer        2024-01-31   \n",
       "1   LesLie TErRy   62    Male         A+           Obesity        2019-08-20   \n",
       "2    DaNnY sMitH   76  Female         A-           Obesity        2022-09-22   \n",
       "3   andrEw waTtS   28  Female         O+          Diabetes        2020-11-18   \n",
       "4  adrIENNE bEll   43  Female        AB+            Cancer        2022-09-19   \n",
       "\n",
       "             doctor                    hospital insurance_provider  \\\n",
       "0     Matthew Smith             Sons and Miller         Blue Cross   \n",
       "1   Samantha Davies                     Kim Inc           Medicare   \n",
       "2  Tiffany Mitchell                    Cook PLC              Aetna   \n",
       "3       Kevin Wells  Hernandez Rogers and Vang,           Medicare   \n",
       "4    Kathleen Hanna                 White-White              Aetna   \n",
       "\n",
       "   billing_amount  room_number admission_type discharge_date   medication  \\\n",
       "0    18856.281306          328         Urgent     2024-02-02  Paracetamol   \n",
       "1    33643.327287          265      Emergency     2019-08-26    Ibuprofen   \n",
       "2    27955.096079          205      Emergency     2022-10-07      Aspirin   \n",
       "3    37909.782410          450       Elective     2020-12-18    Ibuprofen   \n",
       "4    14238.317814          458         Urgent     2022-10-09   Penicillin   \n",
       "\n",
       "   test_results  \n",
       "0        Normal  \n",
       "1  Inconclusive  \n",
       "2        Normal  \n",
       "3      Abnormal  \n",
       "4      Abnormal  "
      ]
     },
     "execution_count": 4,
     "metadata": {},
     "output_type": "execute_result"
    }
   ],
   "source": [
    "# print the top few rows of the dataframe\n",
    "health_data.head()"
   ]
  },
  {
   "cell_type": "code",
   "execution_count": 5,
   "id": "3bcbbb98",
   "metadata": {
    "execution": {
     "iopub.execute_input": "2025-07-29T01:43:57.052132Z",
     "iopub.status.busy": "2025-07-29T01:43:57.051628Z",
     "iopub.status.idle": "2025-07-29T01:43:57.099793Z",
     "shell.execute_reply": "2025-07-29T01:43:57.098409Z"
    },
    "papermill": {
     "duration": 0.05676,
     "end_time": "2025-07-29T01:43:57.102040",
     "exception": false,
     "start_time": "2025-07-29T01:43:57.045280",
     "status": "completed"
    },
    "tags": []
   },
   "outputs": [
    {
     "name": "stdout",
     "output_type": "stream",
     "text": [
      "name is good\n",
      "age is good\n",
      "gender is good\n",
      "blood_type is good\n",
      "medical_condition is good\n",
      "date_of_admission is good\n",
      "doctor is good\n",
      "hospital is good\n",
      "insurance_provider is good\n",
      "billing_amount is good\n",
      "room_number is good\n",
      "admission_type is good\n",
      "discharge_date is good\n",
      "medication is good\n",
      "test_results is good\n"
     ]
    }
   ],
   "source": [
    "# check if any columns have missing values\n",
    "for col in health_data.columns:\n",
    "    if health_data[col].isnull().any():\n",
    "        print(str(col) + \" has missing values\")\n",
    "    else:\n",
    "        print(str(col) + \" is good\")"
   ]
  },
  {
   "cell_type": "markdown",
   "id": "02fe74cd",
   "metadata": {
    "papermill": {
     "duration": 0.004008,
     "end_time": "2025-07-29T01:43:57.111141",
     "exception": false,
     "start_time": "2025-07-29T01:43:57.107133",
     "status": "completed"
    },
    "tags": []
   },
   "source": [
    "## Add a column for number of days admitted to the hospital\n",
    "\n",
    " Use the date of admission and date of discharge to determine the total number of days the patient was in the hospital."
   ]
  },
  {
   "cell_type": "code",
   "execution_count": 6,
   "id": "74989d43",
   "metadata": {
    "execution": {
     "iopub.execute_input": "2025-07-29T01:43:57.121408Z",
     "iopub.status.busy": "2025-07-29T01:43:57.121031Z",
     "iopub.status.idle": "2025-07-29T01:43:57.160219Z",
     "shell.execute_reply": "2025-07-29T01:43:57.159274Z"
    },
    "papermill": {
     "duration": 0.046497,
     "end_time": "2025-07-29T01:43:57.162264",
     "exception": false,
     "start_time": "2025-07-29T01:43:57.115767",
     "status": "completed"
    },
    "tags": []
   },
   "outputs": [],
   "source": [
    "# convert 'date_of_admission' and 'discharge_date' columns to datetime\n",
    "dt_cols = ['date_of_admission','discharge_date']\n",
    "\n",
    "for col in dt_cols:\n",
    "    health_data[col] = pd.to_datetime(health_data[col], errors='coerce')\n",
    "\n",
    "# subtract 'date_of_admission' from 'discharge_date' to get total number of admission days\n",
    "health_data['length_of_admission'] = (health_data['discharge_date'] - health_data['date_of_admission']).dt.days"
   ]
  },
  {
   "cell_type": "code",
   "execution_count": 7,
   "id": "f6bae612",
   "metadata": {
    "execution": {
     "iopub.execute_input": "2025-07-29T01:43:57.172773Z",
     "iopub.status.busy": "2025-07-29T01:43:57.172371Z",
     "iopub.status.idle": "2025-07-29T01:43:57.226001Z",
     "shell.execute_reply": "2025-07-29T01:43:57.224979Z"
    },
    "papermill": {
     "duration": 0.061633,
     "end_time": "2025-07-29T01:43:57.228157",
     "exception": false,
     "start_time": "2025-07-29T01:43:57.166524",
     "status": "completed"
    },
    "tags": []
   },
   "outputs": [
    {
     "data": {
      "text/html": [
       "<div>\n",
       "<style scoped>\n",
       "    .dataframe tbody tr th:only-of-type {\n",
       "        vertical-align: middle;\n",
       "    }\n",
       "\n",
       "    .dataframe tbody tr th {\n",
       "        vertical-align: top;\n",
       "    }\n",
       "\n",
       "    .dataframe thead th {\n",
       "        text-align: right;\n",
       "    }\n",
       "</style>\n",
       "<table border=\"1\" class=\"dataframe\">\n",
       "  <thead>\n",
       "    <tr style=\"text-align: right;\">\n",
       "      <th></th>\n",
       "      <th>age</th>\n",
       "      <th>date_of_admission</th>\n",
       "      <th>billing_amount</th>\n",
       "      <th>room_number</th>\n",
       "      <th>discharge_date</th>\n",
       "      <th>length_of_admission</th>\n",
       "    </tr>\n",
       "  </thead>\n",
       "  <tbody>\n",
       "    <tr>\n",
       "      <th>count</th>\n",
       "      <td>55500.000000</td>\n",
       "      <td>55500</td>\n",
       "      <td>55500.000000</td>\n",
       "      <td>55500.000000</td>\n",
       "      <td>55500</td>\n",
       "      <td>55500.000000</td>\n",
       "    </tr>\n",
       "    <tr>\n",
       "      <th>mean</th>\n",
       "      <td>51.539459</td>\n",
       "      <td>2021-11-01 01:02:22.443243008</td>\n",
       "      <td>25539.316097</td>\n",
       "      <td>301.134829</td>\n",
       "      <td>2021-11-16 13:15:20.821621504</td>\n",
       "      <td>15.509009</td>\n",
       "    </tr>\n",
       "    <tr>\n",
       "      <th>min</th>\n",
       "      <td>13.000000</td>\n",
       "      <td>2019-05-08 00:00:00</td>\n",
       "      <td>-2008.492140</td>\n",
       "      <td>101.000000</td>\n",
       "      <td>2019-05-09 00:00:00</td>\n",
       "      <td>1.000000</td>\n",
       "    </tr>\n",
       "    <tr>\n",
       "      <th>25%</th>\n",
       "      <td>35.000000</td>\n",
       "      <td>2020-07-28 00:00:00</td>\n",
       "      <td>13241.224652</td>\n",
       "      <td>202.000000</td>\n",
       "      <td>2020-08-12 00:00:00</td>\n",
       "      <td>8.000000</td>\n",
       "    </tr>\n",
       "    <tr>\n",
       "      <th>50%</th>\n",
       "      <td>52.000000</td>\n",
       "      <td>2021-11-01 00:00:00</td>\n",
       "      <td>25538.069376</td>\n",
       "      <td>302.000000</td>\n",
       "      <td>2021-11-17 00:00:00</td>\n",
       "      <td>15.000000</td>\n",
       "    </tr>\n",
       "    <tr>\n",
       "      <th>75%</th>\n",
       "      <td>68.000000</td>\n",
       "      <td>2023-02-03 00:00:00</td>\n",
       "      <td>37820.508436</td>\n",
       "      <td>401.000000</td>\n",
       "      <td>2023-02-18 00:00:00</td>\n",
       "      <td>23.000000</td>\n",
       "    </tr>\n",
       "    <tr>\n",
       "      <th>max</th>\n",
       "      <td>89.000000</td>\n",
       "      <td>2024-05-07 00:00:00</td>\n",
       "      <td>52764.276736</td>\n",
       "      <td>500.000000</td>\n",
       "      <td>2024-06-06 00:00:00</td>\n",
       "      <td>30.000000</td>\n",
       "    </tr>\n",
       "    <tr>\n",
       "      <th>std</th>\n",
       "      <td>19.602454</td>\n",
       "      <td>NaN</td>\n",
       "      <td>14211.454431</td>\n",
       "      <td>115.243069</td>\n",
       "      <td>NaN</td>\n",
       "      <td>8.659600</td>\n",
       "    </tr>\n",
       "  </tbody>\n",
       "</table>\n",
       "</div>"
      ],
      "text/plain": [
       "                age              date_of_admission  billing_amount  \\\n",
       "count  55500.000000                          55500    55500.000000   \n",
       "mean      51.539459  2021-11-01 01:02:22.443243008    25539.316097   \n",
       "min       13.000000            2019-05-08 00:00:00    -2008.492140   \n",
       "25%       35.000000            2020-07-28 00:00:00    13241.224652   \n",
       "50%       52.000000            2021-11-01 00:00:00    25538.069376   \n",
       "75%       68.000000            2023-02-03 00:00:00    37820.508436   \n",
       "max       89.000000            2024-05-07 00:00:00    52764.276736   \n",
       "std       19.602454                            NaN    14211.454431   \n",
       "\n",
       "        room_number                 discharge_date  length_of_admission  \n",
       "count  55500.000000                          55500         55500.000000  \n",
       "mean     301.134829  2021-11-16 13:15:20.821621504            15.509009  \n",
       "min      101.000000            2019-05-09 00:00:00             1.000000  \n",
       "25%      202.000000            2020-08-12 00:00:00             8.000000  \n",
       "50%      302.000000            2021-11-17 00:00:00            15.000000  \n",
       "75%      401.000000            2023-02-18 00:00:00            23.000000  \n",
       "max      500.000000            2024-06-06 00:00:00            30.000000  \n",
       "std      115.243069                            NaN             8.659600  "
      ]
     },
     "execution_count": 7,
     "metadata": {},
     "output_type": "execute_result"
    }
   ],
   "source": [
    "# print summary statistics for numerical data\n",
    "health_data.describe()"
   ]
  },
  {
   "cell_type": "code",
   "execution_count": 8,
   "id": "7675410d",
   "metadata": {
    "execution": {
     "iopub.execute_input": "2025-07-29T01:43:57.240689Z",
     "iopub.status.busy": "2025-07-29T01:43:57.240194Z",
     "iopub.status.idle": "2025-07-29T01:43:57.293004Z",
     "shell.execute_reply": "2025-07-29T01:43:57.291179Z"
    },
    "papermill": {
     "duration": 0.061357,
     "end_time": "2025-07-29T01:43:57.295267",
     "exception": false,
     "start_time": "2025-07-29T01:43:57.233910",
     "status": "completed"
    },
    "tags": []
   },
   "outputs": [
    {
     "name": "stdout",
     "output_type": "stream",
     "text": [
      "\n",
      "Categorical Columns:\n",
      "['name', 'gender', 'blood_type', 'medical_condition', 'doctor', 'hospital', 'insurance_provider', 'admission_type', 'medication', 'test_results']\n",
      "\n",
      "Number of unique values for categorical data:\n",
      "Hospitals: 39876\n",
      "Medical Conditions: 6\n",
      "Insurance Providers: 5\n",
      "Medications: 5\n",
      "Blood Types: 8\n",
      "Admission Types: 3\n",
      "Test Results: 3\n",
      "Gender: 2\n"
     ]
    }
   ],
   "source": [
    "# get list of categorical variables\n",
    "s = (health_data.dtypes == 'object')\n",
    "object_cols = list(s[s].index)\n",
    "print('\\nCategorical Columns:')\n",
    "print(object_cols)\n",
    "\n",
    "# check number of values for one-hot encoding categorical variables \n",
    "print('\\nNumber of unique values for categorical data:')\n",
    "print('Hospitals: ' + str(health_data['hospital'].nunique()))\n",
    "print('Medical Conditions: ' + str(health_data['medical_condition'].nunique()))\n",
    "print('Insurance Providers: ' + str(health_data['insurance_provider'].nunique()))\n",
    "print('Medications: ' + str(health_data['medication'].nunique()))\n",
    "print('Blood Types: ' + str(health_data['blood_type'].nunique()))\n",
    "print('Admission Types: ' + str(health_data['admission_type'].nunique()))\n",
    "print('Test Results: ' + str(health_data['test_results'].nunique()))\n",
    "print('Gender: ' + str(health_data['gender'].nunique()))"
   ]
  },
  {
   "cell_type": "code",
   "execution_count": 9,
   "id": "7c95af87",
   "metadata": {
    "execution": {
     "iopub.execute_input": "2025-07-29T01:43:57.306946Z",
     "iopub.status.busy": "2025-07-29T01:43:57.306535Z",
     "iopub.status.idle": "2025-07-29T01:43:57.318188Z",
     "shell.execute_reply": "2025-07-29T01:43:57.316994Z"
    },
    "papermill": {
     "duration": 0.020501,
     "end_time": "2025-07-29T01:43:57.320896",
     "exception": false,
     "start_time": "2025-07-29T01:43:57.300395",
     "status": "completed"
    },
    "tags": []
   },
   "outputs": [],
   "source": [
    "# set the target and predictor columns\n",
    "y = health_data.length_of_admission\n",
    "features = ['age','gender','blood_type','medical_condition','insurance_provider','admission_type','medication','test_results']\n",
    "X = health_data[features]"
   ]
  },
  {
   "cell_type": "markdown",
   "id": "edfbce07",
   "metadata": {
    "papermill": {
     "duration": 0.004236,
     "end_time": "2025-07-29T01:43:57.329799",
     "exception": false,
     "start_time": "2025-07-29T01:43:57.325563",
     "status": "completed"
    },
    "tags": []
   },
   "source": [
    "## Subset data for training and validation"
   ]
  },
  {
   "cell_type": "code",
   "execution_count": 10,
   "id": "fb8dcdba",
   "metadata": {
    "execution": {
     "iopub.execute_input": "2025-07-29T01:43:57.341796Z",
     "iopub.status.busy": "2025-07-29T01:43:57.341394Z",
     "iopub.status.idle": "2025-07-29T01:43:59.285740Z",
     "shell.execute_reply": "2025-07-29T01:43:59.284721Z"
    },
    "papermill": {
     "duration": 1.951948,
     "end_time": "2025-07-29T01:43:59.287499",
     "exception": false,
     "start_time": "2025-07-29T01:43:57.335551",
     "status": "completed"
    },
    "tags": []
   },
   "outputs": [
    {
     "data": {
      "text/html": [
       "<div>\n",
       "<style scoped>\n",
       "    .dataframe tbody tr th:only-of-type {\n",
       "        vertical-align: middle;\n",
       "    }\n",
       "\n",
       "    .dataframe tbody tr th {\n",
       "        vertical-align: top;\n",
       "    }\n",
       "\n",
       "    .dataframe thead th {\n",
       "        text-align: right;\n",
       "    }\n",
       "</style>\n",
       "<table border=\"1\" class=\"dataframe\">\n",
       "  <thead>\n",
       "    <tr style=\"text-align: right;\">\n",
       "      <th></th>\n",
       "      <th>age</th>\n",
       "      <th>gender_Female</th>\n",
       "      <th>gender_Male</th>\n",
       "      <th>blood_type_A+</th>\n",
       "      <th>blood_type_A-</th>\n",
       "      <th>blood_type_AB+</th>\n",
       "      <th>blood_type_AB-</th>\n",
       "      <th>blood_type_B+</th>\n",
       "      <th>blood_type_B-</th>\n",
       "      <th>blood_type_O+</th>\n",
       "      <th>...</th>\n",
       "      <th>admission_type_Emergency</th>\n",
       "      <th>admission_type_Urgent</th>\n",
       "      <th>medication_Aspirin</th>\n",
       "      <th>medication_Ibuprofen</th>\n",
       "      <th>medication_Lipitor</th>\n",
       "      <th>medication_Paracetamol</th>\n",
       "      <th>medication_Penicillin</th>\n",
       "      <th>test_results_Abnormal</th>\n",
       "      <th>test_results_Inconclusive</th>\n",
       "      <th>test_results_Normal</th>\n",
       "    </tr>\n",
       "  </thead>\n",
       "  <tbody>\n",
       "    <tr>\n",
       "      <th>0</th>\n",
       "      <td>30</td>\n",
       "      <td>0.0</td>\n",
       "      <td>1.0</td>\n",
       "      <td>0.0</td>\n",
       "      <td>0.0</td>\n",
       "      <td>0.0</td>\n",
       "      <td>0.0</td>\n",
       "      <td>0.0</td>\n",
       "      <td>1.0</td>\n",
       "      <td>0.0</td>\n",
       "      <td>...</td>\n",
       "      <td>0.0</td>\n",
       "      <td>1.0</td>\n",
       "      <td>0.0</td>\n",
       "      <td>0.0</td>\n",
       "      <td>0.0</td>\n",
       "      <td>1.0</td>\n",
       "      <td>0.0</td>\n",
       "      <td>0.0</td>\n",
       "      <td>0.0</td>\n",
       "      <td>1.0</td>\n",
       "    </tr>\n",
       "    <tr>\n",
       "      <th>1</th>\n",
       "      <td>62</td>\n",
       "      <td>0.0</td>\n",
       "      <td>1.0</td>\n",
       "      <td>1.0</td>\n",
       "      <td>0.0</td>\n",
       "      <td>0.0</td>\n",
       "      <td>0.0</td>\n",
       "      <td>0.0</td>\n",
       "      <td>0.0</td>\n",
       "      <td>0.0</td>\n",
       "      <td>...</td>\n",
       "      <td>1.0</td>\n",
       "      <td>0.0</td>\n",
       "      <td>0.0</td>\n",
       "      <td>1.0</td>\n",
       "      <td>0.0</td>\n",
       "      <td>0.0</td>\n",
       "      <td>0.0</td>\n",
       "      <td>0.0</td>\n",
       "      <td>1.0</td>\n",
       "      <td>0.0</td>\n",
       "    </tr>\n",
       "    <tr>\n",
       "      <th>2</th>\n",
       "      <td>76</td>\n",
       "      <td>1.0</td>\n",
       "      <td>0.0</td>\n",
       "      <td>0.0</td>\n",
       "      <td>1.0</td>\n",
       "      <td>0.0</td>\n",
       "      <td>0.0</td>\n",
       "      <td>0.0</td>\n",
       "      <td>0.0</td>\n",
       "      <td>0.0</td>\n",
       "      <td>...</td>\n",
       "      <td>1.0</td>\n",
       "      <td>0.0</td>\n",
       "      <td>1.0</td>\n",
       "      <td>0.0</td>\n",
       "      <td>0.0</td>\n",
       "      <td>0.0</td>\n",
       "      <td>0.0</td>\n",
       "      <td>0.0</td>\n",
       "      <td>0.0</td>\n",
       "      <td>1.0</td>\n",
       "    </tr>\n",
       "    <tr>\n",
       "      <th>3</th>\n",
       "      <td>28</td>\n",
       "      <td>1.0</td>\n",
       "      <td>0.0</td>\n",
       "      <td>0.0</td>\n",
       "      <td>0.0</td>\n",
       "      <td>0.0</td>\n",
       "      <td>0.0</td>\n",
       "      <td>0.0</td>\n",
       "      <td>0.0</td>\n",
       "      <td>1.0</td>\n",
       "      <td>...</td>\n",
       "      <td>0.0</td>\n",
       "      <td>0.0</td>\n",
       "      <td>0.0</td>\n",
       "      <td>1.0</td>\n",
       "      <td>0.0</td>\n",
       "      <td>0.0</td>\n",
       "      <td>0.0</td>\n",
       "      <td>1.0</td>\n",
       "      <td>0.0</td>\n",
       "      <td>0.0</td>\n",
       "    </tr>\n",
       "    <tr>\n",
       "      <th>4</th>\n",
       "      <td>43</td>\n",
       "      <td>1.0</td>\n",
       "      <td>0.0</td>\n",
       "      <td>0.0</td>\n",
       "      <td>0.0</td>\n",
       "      <td>1.0</td>\n",
       "      <td>0.0</td>\n",
       "      <td>0.0</td>\n",
       "      <td>0.0</td>\n",
       "      <td>0.0</td>\n",
       "      <td>...</td>\n",
       "      <td>0.0</td>\n",
       "      <td>1.0</td>\n",
       "      <td>0.0</td>\n",
       "      <td>0.0</td>\n",
       "      <td>0.0</td>\n",
       "      <td>0.0</td>\n",
       "      <td>1.0</td>\n",
       "      <td>1.0</td>\n",
       "      <td>0.0</td>\n",
       "      <td>0.0</td>\n",
       "    </tr>\n",
       "  </tbody>\n",
       "</table>\n",
       "<p>5 rows × 33 columns</p>\n",
       "</div>"
      ],
      "text/plain": [
       "   age  gender_Female  gender_Male  blood_type_A+  blood_type_A-  \\\n",
       "0   30            0.0          1.0            0.0            0.0   \n",
       "1   62            0.0          1.0            1.0            0.0   \n",
       "2   76            1.0          0.0            0.0            1.0   \n",
       "3   28            1.0          0.0            0.0            0.0   \n",
       "4   43            1.0          0.0            0.0            0.0   \n",
       "\n",
       "   blood_type_AB+  blood_type_AB-  blood_type_B+  blood_type_B-  \\\n",
       "0             0.0             0.0            0.0            1.0   \n",
       "1             0.0             0.0            0.0            0.0   \n",
       "2             0.0             0.0            0.0            0.0   \n",
       "3             0.0             0.0            0.0            0.0   \n",
       "4             1.0             0.0            0.0            0.0   \n",
       "\n",
       "   blood_type_O+  ...  admission_type_Emergency  admission_type_Urgent  \\\n",
       "0            0.0  ...                       0.0                    1.0   \n",
       "1            0.0  ...                       1.0                    0.0   \n",
       "2            0.0  ...                       1.0                    0.0   \n",
       "3            1.0  ...                       0.0                    0.0   \n",
       "4            0.0  ...                       0.0                    1.0   \n",
       "\n",
       "   medication_Aspirin  medication_Ibuprofen  medication_Lipitor  \\\n",
       "0                 0.0                   0.0                 0.0   \n",
       "1                 0.0                   1.0                 0.0   \n",
       "2                 1.0                   0.0                 0.0   \n",
       "3                 0.0                   1.0                 0.0   \n",
       "4                 0.0                   0.0                 0.0   \n",
       "\n",
       "   medication_Paracetamol  medication_Penicillin  test_results_Abnormal  \\\n",
       "0                     1.0                    0.0                    0.0   \n",
       "1                     0.0                    0.0                    0.0   \n",
       "2                     0.0                    0.0                    0.0   \n",
       "3                     0.0                    0.0                    1.0   \n",
       "4                     0.0                    1.0                    1.0   \n",
       "\n",
       "   test_results_Inconclusive  test_results_Normal  \n",
       "0                        0.0                  1.0  \n",
       "1                        1.0                  0.0  \n",
       "2                        0.0                  1.0  \n",
       "3                        0.0                  0.0  \n",
       "4                        0.0                  0.0  \n",
       "\n",
       "[5 rows x 33 columns]"
      ]
     },
     "execution_count": 10,
     "metadata": {},
     "output_type": "execute_result"
    }
   ],
   "source": [
    "from sklearn.model_selection import train_test_split\n",
    "from sklearn.preprocessing import OneHotEncoder\n",
    "\n",
    "# one-hot encode categorical data\n",
    "t = (X.dtypes == 'object')\n",
    "X_object_cols = list(t[t].index)\n",
    "OH_encoder = OneHotEncoder(handle_unknown='ignore',sparse_output=False)\n",
    "OH_array = OH_encoder.fit_transform(X[X_object_cols])\n",
    "OH_cols = pd.DataFrame(OH_array, columns=OH_encoder.get_feature_names_out(X_object_cols))\n",
    "OH_cols.index = X.index\n",
    "\n",
    "# remove categorical columns, replace with one-hot encoding\n",
    "num_health_data = X.drop(X_object_cols, axis=1)\n",
    "OH_X = pd.concat([num_health_data, OH_cols], axis=1)\n",
    "OH_X.columns = OH_X.columns.astype(str)\n",
    "OH_X.head()"
   ]
  },
  {
   "cell_type": "code",
   "execution_count": 11,
   "id": "1474bca5",
   "metadata": {
    "execution": {
     "iopub.execute_input": "2025-07-29T01:43:59.299762Z",
     "iopub.status.busy": "2025-07-29T01:43:59.299138Z",
     "iopub.status.idle": "2025-07-29T01:43:59.338727Z",
     "shell.execute_reply": "2025-07-29T01:43:59.337610Z"
    },
    "papermill": {
     "duration": 0.048349,
     "end_time": "2025-07-29T01:43:59.340886",
     "exception": false,
     "start_time": "2025-07-29T01:43:59.292537",
     "status": "completed"
    },
    "tags": []
   },
   "outputs": [],
   "source": [
    "# divide dataset into training and validation sets\n",
    "X_train, X_val, y_train, y_val = train_test_split(OH_X, y, train_size = 0.8, test_size = 0.2, random_state = 0)"
   ]
  },
  {
   "cell_type": "markdown",
   "id": "48e9888d",
   "metadata": {
    "papermill": {
     "duration": 0.004245,
     "end_time": "2025-07-29T01:43:59.349936",
     "exception": false,
     "start_time": "2025-07-29T01:43:59.345691",
     "status": "completed"
    },
    "tags": []
   },
   "source": [
    "## Determine random forest model\n",
    "Check MAE for a few different random forest models to determine which is best"
   ]
  },
  {
   "cell_type": "code",
   "execution_count": 12,
   "id": "e6fe57a2",
   "metadata": {
    "execution": {
     "iopub.execute_input": "2025-07-29T01:43:59.360576Z",
     "iopub.status.busy": "2025-07-29T01:43:59.360211Z",
     "iopub.status.idle": "2025-07-29T01:45:51.657348Z",
     "shell.execute_reply": "2025-07-29T01:45:51.656254Z"
    },
    "papermill": {
     "duration": 112.309792,
     "end_time": "2025-07-29T01:45:51.664166",
     "exception": false,
     "start_time": "2025-07-29T01:43:59.354374",
     "status": "completed"
    },
    "tags": []
   },
   "outputs": [
    {
     "name": "stdout",
     "output_type": "stream",
     "text": [
      "Model 1 MAE: 7.435956840411841\n",
      "Model 2 MAE: 7.413688653426153\n",
      "Model 3 MAE: 7.401712603642603\n",
      "Model 4 MAE: 7.435006011486608\n",
      "Model 5 MAE: 7.503760965843087\n"
     ]
    }
   ],
   "source": [
    "from sklearn.ensemble import RandomForestRegressor\n",
    "from sklearn.metrics import mean_absolute_error\n",
    "\n",
    "# define 5 different models\n",
    "model_1 = RandomForestRegressor(n_estimators=50, random_state=0)\n",
    "model_2 = RandomForestRegressor(n_estimators=100, random_state=0)\n",
    "model_3 = RandomForestRegressor(n_estimators=150, random_state=0)\n",
    "model_4 = RandomForestRegressor(n_estimators=150, min_samples_split=10, random_state=0)\n",
    "model_5 = RandomForestRegressor(n_estimators=150 ,min_samples_split=10, max_depth=5, random_state=0)\n",
    "\n",
    "models = [model_1, model_2, model_3, model_4, model_5]\n",
    "\n",
    "# function for determining MAE of each model to compare\n",
    "def model_mae(model, X_t=X_train, X_v=X_val, y_t=y_train, y_v=y_val):\n",
    "    model.fit(X_t, y_t)\n",
    "    preds = model.predict(X_v)\n",
    "    return mean_absolute_error(y_v, preds)\n",
    "\n",
    "# print MAE for each model\n",
    "for i in range(0,len(models)):\n",
    "    mae = model_mae(models[i])\n",
    "    print(\"Model \" + str(i+1) + \" MAE: \" + str(mae))"
   ]
  }
 ],
 "metadata": {
  "kaggle": {
   "accelerator": "none",
   "dataSources": [
    {
     "datasetId": 3934836,
     "sourceId": 8356547,
     "sourceType": "datasetVersion"
    }
   ],
   "dockerImageVersionId": 31040,
   "isGpuEnabled": false,
   "isInternetEnabled": true,
   "language": "python",
   "sourceType": "notebook"
  },
  "kernelspec": {
   "display_name": "Python 3",
   "language": "python",
   "name": "python3"
  },
  "language_info": {
   "codemirror_mode": {
    "name": "ipython",
    "version": 3
   },
   "file_extension": ".py",
   "mimetype": "text/x-python",
   "name": "python",
   "nbconvert_exporter": "python",
   "pygments_lexer": "ipython3",
   "version": "3.11.11"
  },
  "papermill": {
   "default_parameters": {},
   "duration": 125.275868,
   "end_time": "2025-07-29T01:45:52.894886",
   "environment_variables": {},
   "exception": null,
   "input_path": "__notebook__.ipynb",
   "output_path": "__notebook__.ipynb",
   "parameters": {},
   "start_time": "2025-07-29T01:43:47.619018",
   "version": "2.6.0"
  }
 },
 "nbformat": 4,
 "nbformat_minor": 5
}
