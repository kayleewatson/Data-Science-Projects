{
 "cells": [
  {
   "cell_type": "code",
   "execution_count": 1,
   "id": "6ba3dff6",
   "metadata": {
    "_cell_guid": "b1076dfc-b9ad-4769-8c92-a6c4dae69d19",
    "_uuid": "8f2839f25d086af736a60e9eeb907d3b93b6e0e5",
    "execution": {
     "iopub.execute_input": "2025-07-29T17:16:13.161763Z",
     "iopub.status.busy": "2025-07-29T17:16:13.161478Z",
     "iopub.status.idle": "2025-07-29T17:16:14.643139Z",
     "shell.execute_reply": "2025-07-29T17:16:14.642461Z"
    },
    "papermill": {
     "duration": 1.487624,
     "end_time": "2025-07-29T17:16:14.644477",
     "exception": false,
     "start_time": "2025-07-29T17:16:13.156853",
     "status": "completed"
    },
    "tags": []
   },
   "outputs": [
    {
     "name": "stdout",
     "output_type": "stream",
     "text": [
      "/kaggle/input/healthcare-dataset/healthcare_dataset.csv\n"
     ]
    }
   ],
   "source": [
    "import numpy as np\n",
    "import pandas as pd\n",
    "\n",
    "import os\n",
    "for dirname, _, filenames in os.walk('/kaggle/input'):\n",
    "    for filename in filenames:\n",
    "        print(os.path.join(dirname, filename))"
   ]
  },
  {
   "cell_type": "markdown",
   "id": "247b5187",
   "metadata": {
    "papermill": {
     "duration": 0.003185,
     "end_time": "2025-07-29T17:16:14.652437",
     "exception": false,
     "start_time": "2025-07-29T17:16:14.649252",
     "status": "completed"
    },
    "tags": []
   },
   "source": [
    "## **Load the Data**\n",
    "\n",
    "Load the data and print information about the data, summary statistics, and the first few rows."
   ]
  },
  {
   "cell_type": "code",
   "execution_count": 2,
   "id": "e796dd22",
   "metadata": {
    "execution": {
     "iopub.execute_input": "2025-07-29T17:16:14.660817Z",
     "iopub.status.busy": "2025-07-29T17:16:14.659810Z",
     "iopub.status.idle": "2025-07-29T17:16:14.958236Z",
     "shell.execute_reply": "2025-07-29T17:16:14.957423Z"
    },
    "papermill": {
     "duration": 0.304125,
     "end_time": "2025-07-29T17:16:14.959638",
     "exception": false,
     "start_time": "2025-07-29T17:16:14.655513",
     "status": "completed"
    },
    "tags": []
   },
   "outputs": [],
   "source": [
    "healthcare_file_path = \"/kaggle/input/healthcare-dataset/healthcare_dataset.csv\"\n",
    "\n",
    "# read in csv file with pandas\n",
    "health_data = pd.read_csv(healthcare_file_path)"
   ]
  },
  {
   "cell_type": "code",
   "execution_count": 3,
   "id": "105eb55f",
   "metadata": {
    "execution": {
     "iopub.execute_input": "2025-07-29T17:16:14.965979Z",
     "iopub.status.busy": "2025-07-29T17:16:14.965709Z",
     "iopub.status.idle": "2025-07-29T17:16:15.026887Z",
     "shell.execute_reply": "2025-07-29T17:16:15.025842Z"
    },
    "papermill": {
     "duration": 0.066053,
     "end_time": "2025-07-29T17:16:15.028464",
     "exception": false,
     "start_time": "2025-07-29T17:16:14.962411",
     "status": "completed"
    },
    "tags": []
   },
   "outputs": [
    {
     "name": "stdout",
     "output_type": "stream",
     "text": [
      "<class 'pandas.core.frame.DataFrame'>\n",
      "RangeIndex: 55500 entries, 0 to 55499\n",
      "Data columns (total 15 columns):\n",
      " #   Column              Non-Null Count  Dtype  \n",
      "---  ------              --------------  -----  \n",
      " 0   Name                55500 non-null  object \n",
      " 1   Age                 55500 non-null  int64  \n",
      " 2   Gender              55500 non-null  object \n",
      " 3   Blood Type          55500 non-null  object \n",
      " 4   Medical Condition   55500 non-null  object \n",
      " 5   Date of Admission   55500 non-null  object \n",
      " 6   Doctor              55500 non-null  object \n",
      " 7   Hospital            55500 non-null  object \n",
      " 8   Insurance Provider  55500 non-null  object \n",
      " 9   Billing Amount      55500 non-null  float64\n",
      " 10  Room Number         55500 non-null  int64  \n",
      " 11  Admission Type      55500 non-null  object \n",
      " 12  Discharge Date      55500 non-null  object \n",
      " 13  Medication          55500 non-null  object \n",
      " 14  Test Results        55500 non-null  object \n",
      "dtypes: float64(1), int64(2), object(12)\n",
      "memory usage: 6.4+ MB\n"
     ]
    }
   ],
   "source": [
    "# print information about the dataframe\n",
    "health_data.info()\n",
    "\n",
    "# change column names to snake case\n",
    "health_data.columns = (health_data.columns.str.replace(' ','_').str.lower())"
   ]
  },
  {
   "cell_type": "code",
   "execution_count": 4,
   "id": "380fa8d1",
   "metadata": {
    "execution": {
     "iopub.execute_input": "2025-07-29T17:16:15.037184Z",
     "iopub.status.busy": "2025-07-29T17:16:15.036882Z",
     "iopub.status.idle": "2025-07-29T17:16:15.059605Z",
     "shell.execute_reply": "2025-07-29T17:16:15.058960Z"
    },
    "papermill": {
     "duration": 0.02815,
     "end_time": "2025-07-29T17:16:15.060778",
     "exception": false,
     "start_time": "2025-07-29T17:16:15.032628",
     "status": "completed"
    },
    "tags": []
   },
   "outputs": [
    {
     "data": {
      "text/html": [
       "<div>\n",
       "<style scoped>\n",
       "    .dataframe tbody tr th:only-of-type {\n",
       "        vertical-align: middle;\n",
       "    }\n",
       "\n",
       "    .dataframe tbody tr th {\n",
       "        vertical-align: top;\n",
       "    }\n",
       "\n",
       "    .dataframe thead th {\n",
       "        text-align: right;\n",
       "    }\n",
       "</style>\n",
       "<table border=\"1\" class=\"dataframe\">\n",
       "  <thead>\n",
       "    <tr style=\"text-align: right;\">\n",
       "      <th></th>\n",
       "      <th>name</th>\n",
       "      <th>age</th>\n",
       "      <th>gender</th>\n",
       "      <th>blood_type</th>\n",
       "      <th>medical_condition</th>\n",
       "      <th>date_of_admission</th>\n",
       "      <th>doctor</th>\n",
       "      <th>hospital</th>\n",
       "      <th>insurance_provider</th>\n",
       "      <th>billing_amount</th>\n",
       "      <th>room_number</th>\n",
       "      <th>admission_type</th>\n",
       "      <th>discharge_date</th>\n",
       "      <th>medication</th>\n",
       "      <th>test_results</th>\n",
       "    </tr>\n",
       "  </thead>\n",
       "  <tbody>\n",
       "    <tr>\n",
       "      <th>0</th>\n",
       "      <td>Bobby JacksOn</td>\n",
       "      <td>30</td>\n",
       "      <td>Male</td>\n",
       "      <td>B-</td>\n",
       "      <td>Cancer</td>\n",
       "      <td>2024-01-31</td>\n",
       "      <td>Matthew Smith</td>\n",
       "      <td>Sons and Miller</td>\n",
       "      <td>Blue Cross</td>\n",
       "      <td>18856.281306</td>\n",
       "      <td>328</td>\n",
       "      <td>Urgent</td>\n",
       "      <td>2024-02-02</td>\n",
       "      <td>Paracetamol</td>\n",
       "      <td>Normal</td>\n",
       "    </tr>\n",
       "    <tr>\n",
       "      <th>1</th>\n",
       "      <td>LesLie TErRy</td>\n",
       "      <td>62</td>\n",
       "      <td>Male</td>\n",
       "      <td>A+</td>\n",
       "      <td>Obesity</td>\n",
       "      <td>2019-08-20</td>\n",
       "      <td>Samantha Davies</td>\n",
       "      <td>Kim Inc</td>\n",
       "      <td>Medicare</td>\n",
       "      <td>33643.327287</td>\n",
       "      <td>265</td>\n",
       "      <td>Emergency</td>\n",
       "      <td>2019-08-26</td>\n",
       "      <td>Ibuprofen</td>\n",
       "      <td>Inconclusive</td>\n",
       "    </tr>\n",
       "    <tr>\n",
       "      <th>2</th>\n",
       "      <td>DaNnY sMitH</td>\n",
       "      <td>76</td>\n",
       "      <td>Female</td>\n",
       "      <td>A-</td>\n",
       "      <td>Obesity</td>\n",
       "      <td>2022-09-22</td>\n",
       "      <td>Tiffany Mitchell</td>\n",
       "      <td>Cook PLC</td>\n",
       "      <td>Aetna</td>\n",
       "      <td>27955.096079</td>\n",
       "      <td>205</td>\n",
       "      <td>Emergency</td>\n",
       "      <td>2022-10-07</td>\n",
       "      <td>Aspirin</td>\n",
       "      <td>Normal</td>\n",
       "    </tr>\n",
       "    <tr>\n",
       "      <th>3</th>\n",
       "      <td>andrEw waTtS</td>\n",
       "      <td>28</td>\n",
       "      <td>Female</td>\n",
       "      <td>O+</td>\n",
       "      <td>Diabetes</td>\n",
       "      <td>2020-11-18</td>\n",
       "      <td>Kevin Wells</td>\n",
       "      <td>Hernandez Rogers and Vang,</td>\n",
       "      <td>Medicare</td>\n",
       "      <td>37909.782410</td>\n",
       "      <td>450</td>\n",
       "      <td>Elective</td>\n",
       "      <td>2020-12-18</td>\n",
       "      <td>Ibuprofen</td>\n",
       "      <td>Abnormal</td>\n",
       "    </tr>\n",
       "    <tr>\n",
       "      <th>4</th>\n",
       "      <td>adrIENNE bEll</td>\n",
       "      <td>43</td>\n",
       "      <td>Female</td>\n",
       "      <td>AB+</td>\n",
       "      <td>Cancer</td>\n",
       "      <td>2022-09-19</td>\n",
       "      <td>Kathleen Hanna</td>\n",
       "      <td>White-White</td>\n",
       "      <td>Aetna</td>\n",
       "      <td>14238.317814</td>\n",
       "      <td>458</td>\n",
       "      <td>Urgent</td>\n",
       "      <td>2022-10-09</td>\n",
       "      <td>Penicillin</td>\n",
       "      <td>Abnormal</td>\n",
       "    </tr>\n",
       "  </tbody>\n",
       "</table>\n",
       "</div>"
      ],
      "text/plain": [
       "            name  age  gender blood_type medical_condition date_of_admission  \\\n",
       "0  Bobby JacksOn   30    Male         B-            Cancer        2024-01-31   \n",
       "1   LesLie TErRy   62    Male         A+           Obesity        2019-08-20   \n",
       "2    DaNnY sMitH   76  Female         A-           Obesity        2022-09-22   \n",
       "3   andrEw waTtS   28  Female         O+          Diabetes        2020-11-18   \n",
       "4  adrIENNE bEll   43  Female        AB+            Cancer        2022-09-19   \n",
       "\n",
       "             doctor                    hospital insurance_provider  \\\n",
       "0     Matthew Smith             Sons and Miller         Blue Cross   \n",
       "1   Samantha Davies                     Kim Inc           Medicare   \n",
       "2  Tiffany Mitchell                    Cook PLC              Aetna   \n",
       "3       Kevin Wells  Hernandez Rogers and Vang,           Medicare   \n",
       "4    Kathleen Hanna                 White-White              Aetna   \n",
       "\n",
       "   billing_amount  room_number admission_type discharge_date   medication  \\\n",
       "0    18856.281306          328         Urgent     2024-02-02  Paracetamol   \n",
       "1    33643.327287          265      Emergency     2019-08-26    Ibuprofen   \n",
       "2    27955.096079          205      Emergency     2022-10-07      Aspirin   \n",
       "3    37909.782410          450       Elective     2020-12-18    Ibuprofen   \n",
       "4    14238.317814          458         Urgent     2022-10-09   Penicillin   \n",
       "\n",
       "   test_results  \n",
       "0        Normal  \n",
       "1  Inconclusive  \n",
       "2        Normal  \n",
       "3      Abnormal  \n",
       "4      Abnormal  "
      ]
     },
     "execution_count": 4,
     "metadata": {},
     "output_type": "execute_result"
    }
   ],
   "source": [
    "# print the top few rows of the dataframe\n",
    "health_data.head()"
   ]
  },
  {
   "cell_type": "code",
   "execution_count": 5,
   "id": "69e2cc3b",
   "metadata": {
    "execution": {
     "iopub.execute_input": "2025-07-29T17:16:15.069490Z",
     "iopub.status.busy": "2025-07-29T17:16:15.069219Z",
     "iopub.status.idle": "2025-07-29T17:16:15.098301Z",
     "shell.execute_reply": "2025-07-29T17:16:15.097432Z"
    },
    "papermill": {
     "duration": 0.034818,
     "end_time": "2025-07-29T17:16:15.099551",
     "exception": false,
     "start_time": "2025-07-29T17:16:15.064733",
     "status": "completed"
    },
    "tags": []
   },
   "outputs": [
    {
     "name": "stdout",
     "output_type": "stream",
     "text": [
      "name is good\n",
      "age is good\n",
      "gender is good\n",
      "blood_type is good\n",
      "medical_condition is good\n",
      "date_of_admission is good\n",
      "doctor is good\n",
      "hospital is good\n",
      "insurance_provider is good\n",
      "billing_amount is good\n",
      "room_number is good\n",
      "admission_type is good\n",
      "discharge_date is good\n",
      "medication is good\n",
      "test_results is good\n"
     ]
    }
   ],
   "source": [
    "# check if any columns have missing values\n",
    "for col in health_data.columns:\n",
    "    if health_data[col].isnull().any():\n",
    "        print(str(col) + \" has missing values\")\n",
    "    else:\n",
    "        print(str(col) + \" is good\")"
   ]
  },
  {
   "cell_type": "markdown",
   "id": "3ac01619",
   "metadata": {
    "papermill": {
     "duration": 0.00383,
     "end_time": "2025-07-29T17:16:15.106646",
     "exception": false,
     "start_time": "2025-07-29T17:16:15.102816",
     "status": "completed"
    },
    "tags": []
   },
   "source": [
    "## **Add a column for number of days admitted to the hospital**\n",
    "\n",
    " Use the date of admission and date of discharge to determine the total number of days the patient was in the hospital."
   ]
  },
  {
   "cell_type": "code",
   "execution_count": 6,
   "id": "07ea8c51",
   "metadata": {
    "execution": {
     "iopub.execute_input": "2025-07-29T17:16:15.112908Z",
     "iopub.status.busy": "2025-07-29T17:16:15.112650Z",
     "iopub.status.idle": "2025-07-29T17:16:15.136311Z",
     "shell.execute_reply": "2025-07-29T17:16:15.135655Z"
    },
    "papermill": {
     "duration": 0.028103,
     "end_time": "2025-07-29T17:16:15.137349",
     "exception": false,
     "start_time": "2025-07-29T17:16:15.109246",
     "status": "completed"
    },
    "tags": []
   },
   "outputs": [],
   "source": [
    "# convert 'date_of_admission' and 'discharge_date' columns to datetime\n",
    "dt_cols = ['date_of_admission','discharge_date']\n",
    "\n",
    "for col in dt_cols:\n",
    "    health_data[col] = pd.to_datetime(health_data[col], errors='coerce')\n",
    "\n",
    "# subtract 'date_of_admission' from 'discharge_date' to get total number of admission days\n",
    "health_data['length_of_admission'] = (health_data['discharge_date'] - health_data['date_of_admission']).dt.days"
   ]
  },
  {
   "cell_type": "code",
   "execution_count": 7,
   "id": "04c82d3f",
   "metadata": {
    "execution": {
     "iopub.execute_input": "2025-07-29T17:16:15.143939Z",
     "iopub.status.busy": "2025-07-29T17:16:15.143649Z",
     "iopub.status.idle": "2025-07-29T17:16:15.173520Z",
     "shell.execute_reply": "2025-07-29T17:16:15.172742Z"
    },
    "papermill": {
     "duration": 0.034115,
     "end_time": "2025-07-29T17:16:15.174565",
     "exception": false,
     "start_time": "2025-07-29T17:16:15.140450",
     "status": "completed"
    },
    "tags": []
   },
   "outputs": [
    {
     "data": {
      "text/html": [
       "<div>\n",
       "<style scoped>\n",
       "    .dataframe tbody tr th:only-of-type {\n",
       "        vertical-align: middle;\n",
       "    }\n",
       "\n",
       "    .dataframe tbody tr th {\n",
       "        vertical-align: top;\n",
       "    }\n",
       "\n",
       "    .dataframe thead th {\n",
       "        text-align: right;\n",
       "    }\n",
       "</style>\n",
       "<table border=\"1\" class=\"dataframe\">\n",
       "  <thead>\n",
       "    <tr style=\"text-align: right;\">\n",
       "      <th></th>\n",
       "      <th>age</th>\n",
       "      <th>date_of_admission</th>\n",
       "      <th>billing_amount</th>\n",
       "      <th>room_number</th>\n",
       "      <th>discharge_date</th>\n",
       "      <th>length_of_admission</th>\n",
       "    </tr>\n",
       "  </thead>\n",
       "  <tbody>\n",
       "    <tr>\n",
       "      <th>count</th>\n",
       "      <td>55500.000000</td>\n",
       "      <td>55500</td>\n",
       "      <td>55500.000000</td>\n",
       "      <td>55500.000000</td>\n",
       "      <td>55500</td>\n",
       "      <td>55500.000000</td>\n",
       "    </tr>\n",
       "    <tr>\n",
       "      <th>mean</th>\n",
       "      <td>51.539459</td>\n",
       "      <td>2021-11-01 01:02:22.443243008</td>\n",
       "      <td>25539.316097</td>\n",
       "      <td>301.134829</td>\n",
       "      <td>2021-11-16 13:15:20.821621504</td>\n",
       "      <td>15.509009</td>\n",
       "    </tr>\n",
       "    <tr>\n",
       "      <th>min</th>\n",
       "      <td>13.000000</td>\n",
       "      <td>2019-05-08 00:00:00</td>\n",
       "      <td>-2008.492140</td>\n",
       "      <td>101.000000</td>\n",
       "      <td>2019-05-09 00:00:00</td>\n",
       "      <td>1.000000</td>\n",
       "    </tr>\n",
       "    <tr>\n",
       "      <th>25%</th>\n",
       "      <td>35.000000</td>\n",
       "      <td>2020-07-28 00:00:00</td>\n",
       "      <td>13241.224652</td>\n",
       "      <td>202.000000</td>\n",
       "      <td>2020-08-12 00:00:00</td>\n",
       "      <td>8.000000</td>\n",
       "    </tr>\n",
       "    <tr>\n",
       "      <th>50%</th>\n",
       "      <td>52.000000</td>\n",
       "      <td>2021-11-01 00:00:00</td>\n",
       "      <td>25538.069376</td>\n",
       "      <td>302.000000</td>\n",
       "      <td>2021-11-17 00:00:00</td>\n",
       "      <td>15.000000</td>\n",
       "    </tr>\n",
       "    <tr>\n",
       "      <th>75%</th>\n",
       "      <td>68.000000</td>\n",
       "      <td>2023-02-03 00:00:00</td>\n",
       "      <td>37820.508436</td>\n",
       "      <td>401.000000</td>\n",
       "      <td>2023-02-18 00:00:00</td>\n",
       "      <td>23.000000</td>\n",
       "    </tr>\n",
       "    <tr>\n",
       "      <th>max</th>\n",
       "      <td>89.000000</td>\n",
       "      <td>2024-05-07 00:00:00</td>\n",
       "      <td>52764.276736</td>\n",
       "      <td>500.000000</td>\n",
       "      <td>2024-06-06 00:00:00</td>\n",
       "      <td>30.000000</td>\n",
       "    </tr>\n",
       "    <tr>\n",
       "      <th>std</th>\n",
       "      <td>19.602454</td>\n",
       "      <td>NaN</td>\n",
       "      <td>14211.454431</td>\n",
       "      <td>115.243069</td>\n",
       "      <td>NaN</td>\n",
       "      <td>8.659600</td>\n",
       "    </tr>\n",
       "  </tbody>\n",
       "</table>\n",
       "</div>"
      ],
      "text/plain": [
       "                age              date_of_admission  billing_amount  \\\n",
       "count  55500.000000                          55500    55500.000000   \n",
       "mean      51.539459  2021-11-01 01:02:22.443243008    25539.316097   \n",
       "min       13.000000            2019-05-08 00:00:00    -2008.492140   \n",
       "25%       35.000000            2020-07-28 00:00:00    13241.224652   \n",
       "50%       52.000000            2021-11-01 00:00:00    25538.069376   \n",
       "75%       68.000000            2023-02-03 00:00:00    37820.508436   \n",
       "max       89.000000            2024-05-07 00:00:00    52764.276736   \n",
       "std       19.602454                            NaN    14211.454431   \n",
       "\n",
       "        room_number                 discharge_date  length_of_admission  \n",
       "count  55500.000000                          55500         55500.000000  \n",
       "mean     301.134829  2021-11-16 13:15:20.821621504            15.509009  \n",
       "min      101.000000            2019-05-09 00:00:00             1.000000  \n",
       "25%      202.000000            2020-08-12 00:00:00             8.000000  \n",
       "50%      302.000000            2021-11-17 00:00:00            15.000000  \n",
       "75%      401.000000            2023-02-18 00:00:00            23.000000  \n",
       "max      500.000000            2024-06-06 00:00:00            30.000000  \n",
       "std      115.243069                            NaN             8.659600  "
      ]
     },
     "execution_count": 7,
     "metadata": {},
     "output_type": "execute_result"
    }
   ],
   "source": [
    "# print summary statistics for numerical data\n",
    "health_data.describe()"
   ]
  },
  {
   "cell_type": "code",
   "execution_count": 8,
   "id": "1ef67865",
   "metadata": {
    "execution": {
     "iopub.execute_input": "2025-07-29T17:16:15.181397Z",
     "iopub.status.busy": "2025-07-29T17:16:15.181176Z",
     "iopub.status.idle": "2025-07-29T17:16:15.208709Z",
     "shell.execute_reply": "2025-07-29T17:16:15.207823Z"
    },
    "papermill": {
     "duration": 0.03221,
     "end_time": "2025-07-29T17:16:15.209915",
     "exception": false,
     "start_time": "2025-07-29T17:16:15.177705",
     "status": "completed"
    },
    "tags": []
   },
   "outputs": [
    {
     "name": "stdout",
     "output_type": "stream",
     "text": [
      "\n",
      "Categorical Columns:\n",
      "['name', 'gender', 'blood_type', 'medical_condition', 'doctor', 'hospital', 'insurance_provider', 'admission_type', 'medication', 'test_results']\n",
      "\n",
      "Number of unique values for categorical data:\n",
      "Hospitals: 39876\n",
      "Medical Conditions: 6\n",
      "Insurance Providers: 5\n",
      "Medications: 5\n",
      "Blood Types: 8\n",
      "Admission Types: 3\n",
      "Test Results: 3\n",
      "Gender: 2\n"
     ]
    }
   ],
   "source": [
    "# get list of categorical variables\n",
    "s = (health_data.dtypes == 'object')\n",
    "object_cols = list(s[s].index)\n",
    "print('\\nCategorical Columns:')\n",
    "print(object_cols)\n",
    "\n",
    "# check number of values for one-hot encoding categorical variables \n",
    "print('\\nNumber of unique values for categorical data:')\n",
    "print('Hospitals: ' + str(health_data['hospital'].nunique()))\n",
    "print('Medical Conditions: ' + str(health_data['medical_condition'].nunique()))\n",
    "print('Insurance Providers: ' + str(health_data['insurance_provider'].nunique()))\n",
    "print('Medications: ' + str(health_data['medication'].nunique()))\n",
    "print('Blood Types: ' + str(health_data['blood_type'].nunique()))\n",
    "print('Admission Types: ' + str(health_data['admission_type'].nunique()))\n",
    "print('Test Results: ' + str(health_data['test_results'].nunique()))\n",
    "print('Gender: ' + str(health_data['gender'].nunique()))"
   ]
  },
  {
   "cell_type": "code",
   "execution_count": 9,
   "id": "0c60e4b9",
   "metadata": {
    "execution": {
     "iopub.execute_input": "2025-07-29T17:16:15.217070Z",
     "iopub.status.busy": "2025-07-29T17:16:15.216853Z",
     "iopub.status.idle": "2025-07-29T17:16:15.223869Z",
     "shell.execute_reply": "2025-07-29T17:16:15.222986Z"
    },
    "papermill": {
     "duration": 0.011946,
     "end_time": "2025-07-29T17:16:15.225119",
     "exception": false,
     "start_time": "2025-07-29T17:16:15.213173",
     "status": "completed"
    },
    "tags": []
   },
   "outputs": [],
   "source": [
    "# set the target and predictor columns\n",
    "y = health_data.length_of_admission\n",
    "features = ['age','gender','blood_type','medical_condition','insurance_provider','admission_type','medication','test_results']\n",
    "X = health_data[features]"
   ]
  },
  {
   "cell_type": "markdown",
   "id": "4e834ae4",
   "metadata": {
    "papermill": {
     "duration": 0.002665,
     "end_time": "2025-07-29T17:16:15.231069",
     "exception": false,
     "start_time": "2025-07-29T17:16:15.228404",
     "status": "completed"
    },
    "tags": []
   },
   "source": [
    "## **Subset data for testing, training and validation**\n",
    "One-hot encode categorical columns, then split data into the following:\n",
    "\n",
    "30% testing\n",
    "\n",
    "70% training (56% training, 14% validation)"
   ]
  },
  {
   "cell_type": "code",
   "execution_count": 10,
   "id": "958b56a8",
   "metadata": {
    "execution": {
     "iopub.execute_input": "2025-07-29T17:16:15.237594Z",
     "iopub.status.busy": "2025-07-29T17:16:15.237368Z",
     "iopub.status.idle": "2025-07-29T17:16:16.777522Z",
     "shell.execute_reply": "2025-07-29T17:16:16.776762Z"
    },
    "papermill": {
     "duration": 1.5448,
     "end_time": "2025-07-29T17:16:16.778708",
     "exception": false,
     "start_time": "2025-07-29T17:16:15.233908",
     "status": "completed"
    },
    "tags": []
   },
   "outputs": [
    {
     "data": {
      "text/html": [
       "<div>\n",
       "<style scoped>\n",
       "    .dataframe tbody tr th:only-of-type {\n",
       "        vertical-align: middle;\n",
       "    }\n",
       "\n",
       "    .dataframe tbody tr th {\n",
       "        vertical-align: top;\n",
       "    }\n",
       "\n",
       "    .dataframe thead th {\n",
       "        text-align: right;\n",
       "    }\n",
       "</style>\n",
       "<table border=\"1\" class=\"dataframe\">\n",
       "  <thead>\n",
       "    <tr style=\"text-align: right;\">\n",
       "      <th></th>\n",
       "      <th>age</th>\n",
       "      <th>gender_Female</th>\n",
       "      <th>gender_Male</th>\n",
       "      <th>blood_type_A+</th>\n",
       "      <th>blood_type_A-</th>\n",
       "      <th>blood_type_AB+</th>\n",
       "      <th>blood_type_AB-</th>\n",
       "      <th>blood_type_B+</th>\n",
       "      <th>blood_type_B-</th>\n",
       "      <th>blood_type_O+</th>\n",
       "      <th>...</th>\n",
       "      <th>admission_type_Emergency</th>\n",
       "      <th>admission_type_Urgent</th>\n",
       "      <th>medication_Aspirin</th>\n",
       "      <th>medication_Ibuprofen</th>\n",
       "      <th>medication_Lipitor</th>\n",
       "      <th>medication_Paracetamol</th>\n",
       "      <th>medication_Penicillin</th>\n",
       "      <th>test_results_Abnormal</th>\n",
       "      <th>test_results_Inconclusive</th>\n",
       "      <th>test_results_Normal</th>\n",
       "    </tr>\n",
       "  </thead>\n",
       "  <tbody>\n",
       "    <tr>\n",
       "      <th>0</th>\n",
       "      <td>30</td>\n",
       "      <td>0.0</td>\n",
       "      <td>1.0</td>\n",
       "      <td>0.0</td>\n",
       "      <td>0.0</td>\n",
       "      <td>0.0</td>\n",
       "      <td>0.0</td>\n",
       "      <td>0.0</td>\n",
       "      <td>1.0</td>\n",
       "      <td>0.0</td>\n",
       "      <td>...</td>\n",
       "      <td>0.0</td>\n",
       "      <td>1.0</td>\n",
       "      <td>0.0</td>\n",
       "      <td>0.0</td>\n",
       "      <td>0.0</td>\n",
       "      <td>1.0</td>\n",
       "      <td>0.0</td>\n",
       "      <td>0.0</td>\n",
       "      <td>0.0</td>\n",
       "      <td>1.0</td>\n",
       "    </tr>\n",
       "    <tr>\n",
       "      <th>1</th>\n",
       "      <td>62</td>\n",
       "      <td>0.0</td>\n",
       "      <td>1.0</td>\n",
       "      <td>1.0</td>\n",
       "      <td>0.0</td>\n",
       "      <td>0.0</td>\n",
       "      <td>0.0</td>\n",
       "      <td>0.0</td>\n",
       "      <td>0.0</td>\n",
       "      <td>0.0</td>\n",
       "      <td>...</td>\n",
       "      <td>1.0</td>\n",
       "      <td>0.0</td>\n",
       "      <td>0.0</td>\n",
       "      <td>1.0</td>\n",
       "      <td>0.0</td>\n",
       "      <td>0.0</td>\n",
       "      <td>0.0</td>\n",
       "      <td>0.0</td>\n",
       "      <td>1.0</td>\n",
       "      <td>0.0</td>\n",
       "    </tr>\n",
       "    <tr>\n",
       "      <th>2</th>\n",
       "      <td>76</td>\n",
       "      <td>1.0</td>\n",
       "      <td>0.0</td>\n",
       "      <td>0.0</td>\n",
       "      <td>1.0</td>\n",
       "      <td>0.0</td>\n",
       "      <td>0.0</td>\n",
       "      <td>0.0</td>\n",
       "      <td>0.0</td>\n",
       "      <td>0.0</td>\n",
       "      <td>...</td>\n",
       "      <td>1.0</td>\n",
       "      <td>0.0</td>\n",
       "      <td>1.0</td>\n",
       "      <td>0.0</td>\n",
       "      <td>0.0</td>\n",
       "      <td>0.0</td>\n",
       "      <td>0.0</td>\n",
       "      <td>0.0</td>\n",
       "      <td>0.0</td>\n",
       "      <td>1.0</td>\n",
       "    </tr>\n",
       "    <tr>\n",
       "      <th>3</th>\n",
       "      <td>28</td>\n",
       "      <td>1.0</td>\n",
       "      <td>0.0</td>\n",
       "      <td>0.0</td>\n",
       "      <td>0.0</td>\n",
       "      <td>0.0</td>\n",
       "      <td>0.0</td>\n",
       "      <td>0.0</td>\n",
       "      <td>0.0</td>\n",
       "      <td>1.0</td>\n",
       "      <td>...</td>\n",
       "      <td>0.0</td>\n",
       "      <td>0.0</td>\n",
       "      <td>0.0</td>\n",
       "      <td>1.0</td>\n",
       "      <td>0.0</td>\n",
       "      <td>0.0</td>\n",
       "      <td>0.0</td>\n",
       "      <td>1.0</td>\n",
       "      <td>0.0</td>\n",
       "      <td>0.0</td>\n",
       "    </tr>\n",
       "    <tr>\n",
       "      <th>4</th>\n",
       "      <td>43</td>\n",
       "      <td>1.0</td>\n",
       "      <td>0.0</td>\n",
       "      <td>0.0</td>\n",
       "      <td>0.0</td>\n",
       "      <td>1.0</td>\n",
       "      <td>0.0</td>\n",
       "      <td>0.0</td>\n",
       "      <td>0.0</td>\n",
       "      <td>0.0</td>\n",
       "      <td>...</td>\n",
       "      <td>0.0</td>\n",
       "      <td>1.0</td>\n",
       "      <td>0.0</td>\n",
       "      <td>0.0</td>\n",
       "      <td>0.0</td>\n",
       "      <td>0.0</td>\n",
       "      <td>1.0</td>\n",
       "      <td>1.0</td>\n",
       "      <td>0.0</td>\n",
       "      <td>0.0</td>\n",
       "    </tr>\n",
       "  </tbody>\n",
       "</table>\n",
       "<p>5 rows × 33 columns</p>\n",
       "</div>"
      ],
      "text/plain": [
       "   age  gender_Female  gender_Male  blood_type_A+  blood_type_A-  \\\n",
       "0   30            0.0          1.0            0.0            0.0   \n",
       "1   62            0.0          1.0            1.0            0.0   \n",
       "2   76            1.0          0.0            0.0            1.0   \n",
       "3   28            1.0          0.0            0.0            0.0   \n",
       "4   43            1.0          0.0            0.0            0.0   \n",
       "\n",
       "   blood_type_AB+  blood_type_AB-  blood_type_B+  blood_type_B-  \\\n",
       "0             0.0             0.0            0.0            1.0   \n",
       "1             0.0             0.0            0.0            0.0   \n",
       "2             0.0             0.0            0.0            0.0   \n",
       "3             0.0             0.0            0.0            0.0   \n",
       "4             1.0             0.0            0.0            0.0   \n",
       "\n",
       "   blood_type_O+  ...  admission_type_Emergency  admission_type_Urgent  \\\n",
       "0            0.0  ...                       0.0                    1.0   \n",
       "1            0.0  ...                       1.0                    0.0   \n",
       "2            0.0  ...                       1.0                    0.0   \n",
       "3            1.0  ...                       0.0                    0.0   \n",
       "4            0.0  ...                       0.0                    1.0   \n",
       "\n",
       "   medication_Aspirin  medication_Ibuprofen  medication_Lipitor  \\\n",
       "0                 0.0                   0.0                 0.0   \n",
       "1                 0.0                   1.0                 0.0   \n",
       "2                 1.0                   0.0                 0.0   \n",
       "3                 0.0                   1.0                 0.0   \n",
       "4                 0.0                   0.0                 0.0   \n",
       "\n",
       "   medication_Paracetamol  medication_Penicillin  test_results_Abnormal  \\\n",
       "0                     1.0                    0.0                    0.0   \n",
       "1                     0.0                    0.0                    0.0   \n",
       "2                     0.0                    0.0                    0.0   \n",
       "3                     0.0                    0.0                    1.0   \n",
       "4                     0.0                    1.0                    1.0   \n",
       "\n",
       "   test_results_Inconclusive  test_results_Normal  \n",
       "0                        0.0                  1.0  \n",
       "1                        1.0                  0.0  \n",
       "2                        0.0                  1.0  \n",
       "3                        0.0                  0.0  \n",
       "4                        0.0                  0.0  \n",
       "\n",
       "[5 rows x 33 columns]"
      ]
     },
     "execution_count": 10,
     "metadata": {},
     "output_type": "execute_result"
    }
   ],
   "source": [
    "from sklearn.model_selection import train_test_split\n",
    "from sklearn.preprocessing import OneHotEncoder\n",
    "\n",
    "# one-hot encode categorical data\n",
    "t = (X.dtypes == 'object')\n",
    "X_object_cols = list(t[t].index)\n",
    "OH_encoder = OneHotEncoder(handle_unknown='ignore',sparse_output=False)\n",
    "OH_array = OH_encoder.fit_transform(X[X_object_cols])\n",
    "OH_cols = pd.DataFrame(OH_array, columns=OH_encoder.get_feature_names_out(X_object_cols))\n",
    "OH_cols.index = X.index\n",
    "\n",
    "# remove categorical columns, replace with one-hot encoding\n",
    "num_health_data = X.drop(X_object_cols, axis=1)\n",
    "OH_X = pd.concat([num_health_data, OH_cols], axis=1)\n",
    "OH_X.columns = OH_X.columns.astype(str)\n",
    "OH_X.head()"
   ]
  },
  {
   "cell_type": "code",
   "execution_count": 11,
   "id": "2da6fe2d",
   "metadata": {
    "execution": {
     "iopub.execute_input": "2025-07-29T17:16:16.786843Z",
     "iopub.status.busy": "2025-07-29T17:16:16.786172Z",
     "iopub.status.idle": "2025-07-29T17:16:16.823417Z",
     "shell.execute_reply": "2025-07-29T17:16:16.822755Z"
    },
    "papermill": {
     "duration": 0.042791,
     "end_time": "2025-07-29T17:16:16.825036",
     "exception": false,
     "start_time": "2025-07-29T17:16:16.782245",
     "status": "completed"
    },
    "tags": []
   },
   "outputs": [],
   "source": [
    "# split into testing (30%) and training (70%)\n",
    "X_train_full, X_test, y_train_full, y_test = train_test_split(OH_X, y, train_size = 0.7, test_size = 0.3, random_state=0)\n",
    "\n",
    "# divide dataset into training and validation sets\n",
    "X_train, X_val, y_train, y_val = train_test_split(X_train_full, y_train_full, train_size = 0.8, test_size = 0.2, random_state = 0)"
   ]
  },
  {
   "cell_type": "markdown",
   "id": "a214b8cb",
   "metadata": {
    "papermill": {
     "duration": 0.002908,
     "end_time": "2025-07-29T17:16:16.831482",
     "exception": false,
     "start_time": "2025-07-29T17:16:16.828574",
     "status": "completed"
    },
    "tags": []
   },
   "source": [
    "## **Determine random forest model**\n",
    "Check MAE for a few different random forest models to determine which is best"
   ]
  },
  {
   "cell_type": "code",
   "execution_count": 12,
   "id": "2e1f9ddc",
   "metadata": {
    "execution": {
     "iopub.execute_input": "2025-07-29T17:16:16.839178Z",
     "iopub.status.busy": "2025-07-29T17:16:16.838915Z",
     "iopub.status.idle": "2025-07-29T17:17:07.370981Z",
     "shell.execute_reply": "2025-07-29T17:17:07.369609Z"
    },
    "papermill": {
     "duration": 50.537257,
     "end_time": "2025-07-29T17:17:07.372073",
     "exception": false,
     "start_time": "2025-07-29T17:16:16.834816",
     "status": "completed"
    },
    "tags": []
   },
   "outputs": [
    {
     "name": "stdout",
     "output_type": "stream",
     "text": [
      "Model 1 MAE: 7.500595857081572\n",
      "Model 2 MAE: 7.460596827439685\n",
      "Model 3 MAE: 7.447536634593777\n",
      "Model 4 MAE: 7.472449112380399\n",
      "Model 5 MAE: 7.517275456818036\n"
     ]
    }
   ],
   "source": [
    "from sklearn.ensemble import RandomForestRegressor\n",
    "from sklearn.metrics import mean_absolute_error\n",
    "\n",
    "# define 5 different models\n",
    "model_1 = RandomForestRegressor(n_estimators=50, random_state=0)\n",
    "model_2 = RandomForestRegressor(n_estimators=100, random_state=0)\n",
    "model_3 = RandomForestRegressor(n_estimators=150, random_state=0)\n",
    "model_4 = RandomForestRegressor(n_estimators=150, min_samples_split=10, random_state=0)\n",
    "model_5 = RandomForestRegressor(n_estimators=150 ,min_samples_split=10, max_depth=5, random_state=0)\n",
    "\n",
    "models = [model_1, model_2, model_3, model_4, model_5]\n",
    "\n",
    "# function for determining MAE of each model to compare\n",
    "def model_mae(model, X_t=X_train, X_v=X_val, y_t=y_train, y_v=y_val):\n",
    "    model.fit(X_t, y_t)\n",
    "    preds = model.predict(X_v)\n",
    "    return mean_absolute_error(y_v, preds)\n",
    "\n",
    "# print MAE for each model\n",
    "for i in range(0,len(models)):\n",
    "    mae = model_mae(models[i])\n",
    "    print(\"Model \" + str(i+1) + \" MAE: \" + str(mae))"
   ]
  },
  {
   "cell_type": "markdown",
   "id": "54da68bf",
   "metadata": {
    "papermill": {
     "duration": 0.002903,
     "end_time": "2025-07-29T17:17:07.378922",
     "exception": false,
     "start_time": "2025-07-29T17:17:07.376019",
     "status": "completed"
    },
    "tags": []
   },
   "source": [
    "Model 3 has the lowest MAE, so that one will be used in downstream analysis."
   ]
  },
  {
   "cell_type": "markdown",
   "id": "a969ff40",
   "metadata": {
    "papermill": {
     "duration": 0.002842,
     "end_time": "2025-07-29T17:17:07.384756",
     "exception": false,
     "start_time": "2025-07-29T17:17:07.381914",
     "status": "completed"
    },
    "tags": []
   },
   "source": [
    "## **Permutation Feature Importance**\n",
    "\n",
    "Check each feature to determine the contribution of the feature in the model's performance"
   ]
  },
  {
   "cell_type": "code",
   "execution_count": 13,
   "id": "58886770",
   "metadata": {
    "execution": {
     "iopub.execute_input": "2025-07-29T17:17:07.392213Z",
     "iopub.status.busy": "2025-07-29T17:17:07.391645Z",
     "iopub.status.idle": "2025-07-29T17:17:50.658357Z",
     "shell.execute_reply": "2025-07-29T17:17:50.657549Z"
    },
    "papermill": {
     "duration": 43.27459,
     "end_time": "2025-07-29T17:17:50.662377",
     "exception": false,
     "start_time": "2025-07-29T17:17:07.387787",
     "status": "completed"
    },
    "tags": []
   },
   "outputs": [
    {
     "name": "stderr",
     "output_type": "stream",
     "text": [
      "2025-07-29 17:17:15.384531: E external/local_xla/xla/stream_executor/cuda/cuda_fft.cc:477] Unable to register cuFFT factory: Attempting to register factory for plugin cuFFT when one has already been registered\n",
      "WARNING: All log messages before absl::InitializeLog() is called are written to STDERR\n",
      "E0000 00:00:1753809435.618023      13 cuda_dnn.cc:8310] Unable to register cuDNN factory: Attempting to register factory for plugin cuDNN when one has already been registered\n",
      "E0000 00:00:1753809435.693023      13 cuda_blas.cc:1418] Unable to register cuBLAS factory: Attempting to register factory for plugin cuBLAS when one has already been registered\n"
     ]
    },
    {
     "data": {
      "text/html": [
       "<div>\n",
       "<style scoped>\n",
       "    .dataframe tbody tr th:only-of-type {\n",
       "        vertical-align: middle;\n",
       "    }\n",
       "\n",
       "    .dataframe tbody tr th {\n",
       "        vertical-align: top;\n",
       "    }\n",
       "\n",
       "    .dataframe thead th {\n",
       "        text-align: right;\n",
       "    }\n",
       "</style>\n",
       "<table border=\"1\" class=\"dataframe\">\n",
       "  <thead>\n",
       "    <tr style=\"text-align: right;\">\n",
       "      <th></th>\n",
       "      <th>mean_importance</th>\n",
       "      <th>std</th>\n",
       "    </tr>\n",
       "  </thead>\n",
       "  <tbody>\n",
       "    <tr>\n",
       "      <th>age</th>\n",
       "      <td>0.040178</td>\n",
       "      <td>0.004296</td>\n",
       "    </tr>\n",
       "    <tr>\n",
       "      <th>Blood Type</th>\n",
       "      <td>0.037265</td>\n",
       "      <td>0.004797</td>\n",
       "    </tr>\n",
       "    <tr>\n",
       "      <th>Insurance Provider</th>\n",
       "      <td>0.035206</td>\n",
       "      <td>0.003541</td>\n",
       "    </tr>\n",
       "    <tr>\n",
       "      <th>Medical Condition</th>\n",
       "      <td>0.032919</td>\n",
       "      <td>0.003746</td>\n",
       "    </tr>\n",
       "    <tr>\n",
       "      <th>Medication</th>\n",
       "      <td>0.028485</td>\n",
       "      <td>0.004181</td>\n",
       "    </tr>\n",
       "    <tr>\n",
       "      <th>Test Results</th>\n",
       "      <td>0.022872</td>\n",
       "      <td>0.002876</td>\n",
       "    </tr>\n",
       "    <tr>\n",
       "      <th>Admission Type</th>\n",
       "      <td>0.021134</td>\n",
       "      <td>0.002838</td>\n",
       "    </tr>\n",
       "    <tr>\n",
       "      <th>Gender</th>\n",
       "      <td>0.017388</td>\n",
       "      <td>0.004200</td>\n",
       "    </tr>\n",
       "  </tbody>\n",
       "</table>\n",
       "</div>"
      ],
      "text/plain": [
       "                    mean_importance       std\n",
       "age                        0.040178  0.004296\n",
       "Blood Type                 0.037265  0.004797\n",
       "Insurance Provider         0.035206  0.003541\n",
       "Medical Condition          0.032919  0.003746\n",
       "Medication                 0.028485  0.004181\n",
       "Test Results               0.022872  0.002876\n",
       "Admission Type             0.021134  0.002838\n",
       "Gender                     0.017388  0.004200"
      ]
     },
     "execution_count": 13,
     "metadata": {},
     "output_type": "execute_result"
    }
   ],
   "source": [
    "import eli5\n",
    "from eli5.sklearn import PermutationImportance\n",
    "from copy import deepcopy\n",
    "from sklearn.metrics import accuracy_score, r2_score\n",
    "\n",
    "# map original categorical features to their one-hot encoded columns\n",
    "grouped_features = {\n",
    "    'Gender': [col for col in X_val.columns if col.startswith('gender_')],\n",
    "    'Blood Type':  [col for col in X_val.columns if col.startswith('blood_')],\n",
    "    'Admission Type': [col for col in X_val.columns if col.startswith('admission_type_')],\n",
    "    'Medication': [col for col in X_val.columns if col.startswith('medication_')],\n",
    "    'Test Results': [col for col in X_val.columns if col.startswith('test_results_')],\n",
    "    'Medical Condition': [col for col in X_val.columns if col.startswith('medical_condition_')],\n",
    "    'Insurance Provider': [col for col in X_val.columns if col.startswith('insurance_')]\n",
    "}\n",
    "\n",
    "numeric_features = ['age'] \n",
    "\n",
    "def permute_group(X, group_cols):\n",
    "    X_new = X.copy()\n",
    "    perm = np.random.permutation(X.index)\n",
    "    X_new[group_cols] = X.loc[perm, group_cols].values\n",
    "    return X_new\n",
    "\n",
    "def permutation_importance(model, X_valid, y_valid,\n",
    "                                  grouped_features, numeric_features,\n",
    "                                  metric_fn, n_repeats=5):\n",
    "    base_score = metric_fn(y_valid, model.predict(X_valid))\n",
    "    importances = {}\n",
    "    for group_name, columns in grouped_features.items():\n",
    "        scores = []\n",
    "        for _ in range(n_repeats):\n",
    "            X_permuted = permute_group(X_valid, columns)\n",
    "            score = metric_fn(y_valid, model.predict(X_permuted))\n",
    "            scores.append(base_score - score)\n",
    "        importances[group_name] = {\n",
    "            'mean_importance': np.mean(scores),\n",
    "            'std': np.std(scores)\n",
    "        }\n",
    "\n",
    "    # Individual numeric features\n",
    "    for feature in numeric_features:\n",
    "        scores = []\n",
    "        for _ in range(n_repeats):\n",
    "            X_permuted = permute_group(X_valid, [feature])\n",
    "            score = metric_fn(y_valid, model.predict(X_permuted))\n",
    "            scores.append(base_score - score)\n",
    "        importances[feature] = {\n",
    "            'mean_importance': np.mean(scores),\n",
    "            'std': np.std(scores)\n",
    "        }\n",
    "\n",
    "    return pd.DataFrame(importances).T.sort_values('mean_importance', ascending=False)\n",
    "\n",
    "permutation_importance(\n",
    "    model_3, X_val, y_val,\n",
    "    grouped_features,\n",
    "    numeric_features,\n",
    "    metric_fn=r2_score,\n",
    "    n_repeats=10\n",
    ")"
   ]
  }
 ],
 "metadata": {
  "kaggle": {
   "accelerator": "none",
   "dataSources": [
    {
     "datasetId": 3934836,
     "sourceId": 8356547,
     "sourceType": "datasetVersion"
    }
   ],
   "dockerImageVersionId": 31040,
   "isGpuEnabled": false,
   "isInternetEnabled": true,
   "language": "python",
   "sourceType": "notebook"
  },
  "kernelspec": {
   "display_name": "Python 3",
   "language": "python",
   "name": "python3"
  },
  "language_info": {
   "codemirror_mode": {
    "name": "ipython",
    "version": 3
   },
   "file_extension": ".py",
   "mimetype": "text/x-python",
   "name": "python",
   "nbconvert_exporter": "python",
   "pygments_lexer": "ipython3",
   "version": "3.11.11"
  },
  "papermill": {
   "default_parameters": {},
   "duration": 105.569114,
   "end_time": "2025-07-29T17:17:54.057369",
   "environment_variables": {},
   "exception": null,
   "input_path": "__notebook__.ipynb",
   "output_path": "__notebook__.ipynb",
   "parameters": {},
   "start_time": "2025-07-29T17:16:08.488255",
   "version": "2.6.0"
  }
 },
 "nbformat": 4,
 "nbformat_minor": 5
}
